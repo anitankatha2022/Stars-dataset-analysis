{
 "cells": [
  {
   "cell_type": "markdown",
   "id": "d0389be8",
   "metadata": {},
   "source": [
    "# Import modules"
   ]
  },
  {
   "cell_type": "code",
   "execution_count": 1,
   "id": "df0930ad",
   "metadata": {},
   "outputs": [],
   "source": [
    "import pandas as pd\n",
    "import numpy as np\n",
    "import seaborn as sns\n",
    "import matplotlib.pyplot as plt\n",
    "from sklearn.model_selection import train_test_split\n",
    "from sklearn.metrics import r2_score, mean_squared_error\n",
    "from sklearn.metrics import confusion_matrix\n",
    "from sklearn import metrics\n",
    "from sklearn.neighbors import KNeighborsClassifier\n",
    "from sklearn.linear_model import LogisticRegression\n",
    "from sklearn.naive_bayes import MultinomialNB\n",
    "from sklearn.tree import DecisionTreeClassifier\n",
    "from sklearn.ensemble import RandomForestClassifier,AdaBoostClassifier,GradientBoostingClassifier\n",
    "from sklearn.metrics import roc_auc_score\n",
    "from sklearn.preprocessing import LabelBinarizer\n",
    "import warnings\n",
    "warnings.filterwarnings(\"ignore\")"
   ]
  },
  {
   "cell_type": "markdown",
   "id": "7906d294",
   "metadata": {},
   "source": [
    "# Loading dataset"
   ]
  },
  {
   "cell_type": "code",
   "execution_count": 2,
   "id": "5ae6f6bf",
   "metadata": {},
   "outputs": [
    {
     "data": {
      "text/html": [
       "<div>\n",
       "<style scoped>\n",
       "    .dataframe tbody tr th:only-of-type {\n",
       "        vertical-align: middle;\n",
       "    }\n",
       "\n",
       "    .dataframe tbody tr th {\n",
       "        vertical-align: top;\n",
       "    }\n",
       "\n",
       "    .dataframe thead th {\n",
       "        text-align: right;\n",
       "    }\n",
       "</style>\n",
       "<table border=\"1\" class=\"dataframe\">\n",
       "  <thead>\n",
       "    <tr style=\"text-align: right;\">\n",
       "      <th></th>\n",
       "      <th>Temperature</th>\n",
       "      <th>L</th>\n",
       "      <th>R</th>\n",
       "      <th>A_M</th>\n",
       "      <th>Color</th>\n",
       "      <th>Spectral_Class</th>\n",
       "      <th>Type</th>\n",
       "    </tr>\n",
       "  </thead>\n",
       "  <tbody>\n",
       "    <tr>\n",
       "      <th>0</th>\n",
       "      <td>3068</td>\n",
       "      <td>0.002400</td>\n",
       "      <td>0.1700</td>\n",
       "      <td>16.12</td>\n",
       "      <td>Red</td>\n",
       "      <td>M</td>\n",
       "      <td>0</td>\n",
       "    </tr>\n",
       "    <tr>\n",
       "      <th>1</th>\n",
       "      <td>3042</td>\n",
       "      <td>0.000500</td>\n",
       "      <td>0.1542</td>\n",
       "      <td>16.60</td>\n",
       "      <td>Red</td>\n",
       "      <td>M</td>\n",
       "      <td>0</td>\n",
       "    </tr>\n",
       "    <tr>\n",
       "      <th>2</th>\n",
       "      <td>2600</td>\n",
       "      <td>0.000300</td>\n",
       "      <td>0.1020</td>\n",
       "      <td>18.70</td>\n",
       "      <td>Red</td>\n",
       "      <td>M</td>\n",
       "      <td>0</td>\n",
       "    </tr>\n",
       "    <tr>\n",
       "      <th>3</th>\n",
       "      <td>2800</td>\n",
       "      <td>0.000200</td>\n",
       "      <td>0.1600</td>\n",
       "      <td>16.65</td>\n",
       "      <td>Red</td>\n",
       "      <td>M</td>\n",
       "      <td>0</td>\n",
       "    </tr>\n",
       "    <tr>\n",
       "      <th>4</th>\n",
       "      <td>1939</td>\n",
       "      <td>0.000138</td>\n",
       "      <td>0.1030</td>\n",
       "      <td>20.06</td>\n",
       "      <td>Red</td>\n",
       "      <td>M</td>\n",
       "      <td>0</td>\n",
       "    </tr>\n",
       "  </tbody>\n",
       "</table>\n",
       "</div>"
      ],
      "text/plain": [
       "   Temperature         L       R    A_M Color Spectral_Class  Type\n",
       "0         3068  0.002400  0.1700  16.12   Red              M     0\n",
       "1         3042  0.000500  0.1542  16.60   Red              M     0\n",
       "2         2600  0.000300  0.1020  18.70   Red              M     0\n",
       "3         2800  0.000200  0.1600  16.65   Red              M     0\n",
       "4         1939  0.000138  0.1030  20.06   Red              M     0"
      ]
     },
     "execution_count": 2,
     "metadata": {},
     "output_type": "execute_result"
    }
   ],
   "source": [
    "data = pd.read_csv('C:\\\\Users\\\\USER\\\\Desktop\\\\starsd\\\\Stars.csv')\n",
    "data.head()"
   ]
  },
  {
   "cell_type": "code",
   "execution_count": 3,
   "id": "f7ace460",
   "metadata": {},
   "outputs": [
    {
     "name": "stdout",
     "output_type": "stream",
     "text": [
      "shape of dataframe:(240, 7)\n"
     ]
    }
   ],
   "source": [
    "print('shape of dataframe:{}'.format(data.shape))"
   ]
  },
  {
   "cell_type": "code",
   "execution_count": 4,
   "id": "494ccc6c",
   "metadata": {},
   "outputs": [
    {
     "data": {
      "text/plain": [
       "Temperature       0\n",
       "L                 0\n",
       "R                 0\n",
       "A_M               0\n",
       "Color             0\n",
       "Spectral_Class    0\n",
       "Type              0\n",
       "dtype: int64"
      ]
     },
     "execution_count": 4,
     "metadata": {},
     "output_type": "execute_result"
    }
   ],
   "source": [
    "# Getting the null value of the dataset\n",
    "data.isnull().sum()"
   ]
  },
  {
   "cell_type": "code",
   "execution_count": 5,
   "id": "54e45fed",
   "metadata": {},
   "outputs": [
    {
     "name": "stdout",
     "output_type": "stream",
     "text": [
      "<class 'pandas.core.frame.DataFrame'>\n",
      "RangeIndex: 240 entries, 0 to 239\n",
      "Data columns (total 7 columns):\n",
      " #   Column          Non-Null Count  Dtype  \n",
      "---  ------          --------------  -----  \n",
      " 0   Temperature     240 non-null    int64  \n",
      " 1   L               240 non-null    float64\n",
      " 2   R               240 non-null    float64\n",
      " 3   A_M             240 non-null    float64\n",
      " 4   Color           240 non-null    object \n",
      " 5   Spectral_Class  240 non-null    object \n",
      " 6   Type            240 non-null    int64  \n",
      "dtypes: float64(3), int64(2), object(2)\n",
      "memory usage: 13.2+ KB\n"
     ]
    }
   ],
   "source": [
    "data.info()"
   ]
  },
  {
   "cell_type": "code",
   "execution_count": 6,
   "id": "d449414b",
   "metadata": {},
   "outputs": [
    {
     "data": {
      "text/html": [
       "<div>\n",
       "<style scoped>\n",
       "    .dataframe tbody tr th:only-of-type {\n",
       "        vertical-align: middle;\n",
       "    }\n",
       "\n",
       "    .dataframe tbody tr th {\n",
       "        vertical-align: top;\n",
       "    }\n",
       "\n",
       "    .dataframe thead th {\n",
       "        text-align: right;\n",
       "    }\n",
       "</style>\n",
       "<table border=\"1\" class=\"dataframe\">\n",
       "  <thead>\n",
       "    <tr style=\"text-align: right;\">\n",
       "      <th></th>\n",
       "      <th>count</th>\n",
       "      <th>mean</th>\n",
       "      <th>std</th>\n",
       "      <th>min</th>\n",
       "      <th>25%</th>\n",
       "      <th>50%</th>\n",
       "      <th>75%</th>\n",
       "      <th>max</th>\n",
       "    </tr>\n",
       "  </thead>\n",
       "  <tbody>\n",
       "    <tr>\n",
       "      <th>Temperature</th>\n",
       "      <td>240.0</td>\n",
       "      <td>10497.462500</td>\n",
       "      <td>9552.425037</td>\n",
       "      <td>1939.00000</td>\n",
       "      <td>3344.250000</td>\n",
       "      <td>5776.0000</td>\n",
       "      <td>15055.5000</td>\n",
       "      <td>40000.00</td>\n",
       "    </tr>\n",
       "    <tr>\n",
       "      <th>L</th>\n",
       "      <td>240.0</td>\n",
       "      <td>107188.361635</td>\n",
       "      <td>179432.244940</td>\n",
       "      <td>0.00008</td>\n",
       "      <td>0.000865</td>\n",
       "      <td>0.0705</td>\n",
       "      <td>198050.0000</td>\n",
       "      <td>849420.00</td>\n",
       "    </tr>\n",
       "    <tr>\n",
       "      <th>R</th>\n",
       "      <td>240.0</td>\n",
       "      <td>237.157781</td>\n",
       "      <td>517.155763</td>\n",
       "      <td>0.00840</td>\n",
       "      <td>0.102750</td>\n",
       "      <td>0.7625</td>\n",
       "      <td>42.7500</td>\n",
       "      <td>1948.50</td>\n",
       "    </tr>\n",
       "    <tr>\n",
       "      <th>A_M</th>\n",
       "      <td>240.0</td>\n",
       "      <td>4.382396</td>\n",
       "      <td>10.532512</td>\n",
       "      <td>-11.92000</td>\n",
       "      <td>-6.232500</td>\n",
       "      <td>8.3130</td>\n",
       "      <td>13.6975</td>\n",
       "      <td>20.06</td>\n",
       "    </tr>\n",
       "    <tr>\n",
       "      <th>Type</th>\n",
       "      <td>240.0</td>\n",
       "      <td>2.500000</td>\n",
       "      <td>1.711394</td>\n",
       "      <td>0.00000</td>\n",
       "      <td>1.000000</td>\n",
       "      <td>2.5000</td>\n",
       "      <td>4.0000</td>\n",
       "      <td>5.00</td>\n",
       "    </tr>\n",
       "  </tbody>\n",
       "</table>\n",
       "</div>"
      ],
      "text/plain": [
       "             count           mean            std         min          25%  \\\n",
       "Temperature  240.0   10497.462500    9552.425037  1939.00000  3344.250000   \n",
       "L            240.0  107188.361635  179432.244940     0.00008     0.000865   \n",
       "R            240.0     237.157781     517.155763     0.00840     0.102750   \n",
       "A_M          240.0       4.382396      10.532512   -11.92000    -6.232500   \n",
       "Type         240.0       2.500000       1.711394     0.00000     1.000000   \n",
       "\n",
       "                   50%          75%        max  \n",
       "Temperature  5776.0000   15055.5000   40000.00  \n",
       "L               0.0705  198050.0000  849420.00  \n",
       "R               0.7625      42.7500    1948.50  \n",
       "A_M             8.3130      13.6975      20.06  \n",
       "Type            2.5000       4.0000       5.00  "
      ]
     },
     "execution_count": 6,
     "metadata": {},
     "output_type": "execute_result"
    }
   ],
   "source": [
    "data.describe().T"
   ]
  },
  {
   "cell_type": "code",
   "execution_count": 7,
   "id": "e52d089d",
   "metadata": {},
   "outputs": [
    {
     "data": {
      "text/html": [
       "<div>\n",
       "<style scoped>\n",
       "    .dataframe tbody tr th:only-of-type {\n",
       "        vertical-align: middle;\n",
       "    }\n",
       "\n",
       "    .dataframe tbody tr th {\n",
       "        vertical-align: top;\n",
       "    }\n",
       "\n",
       "    .dataframe thead th {\n",
       "        text-align: right;\n",
       "    }\n",
       "</style>\n",
       "<table border=\"1\" class=\"dataframe\">\n",
       "  <thead>\n",
       "    <tr style=\"text-align: right;\">\n",
       "      <th></th>\n",
       "      <th>Temperature</th>\n",
       "      <th>L</th>\n",
       "      <th>R</th>\n",
       "      <th>A_M</th>\n",
       "      <th>Color</th>\n",
       "      <th>Spectral_Class</th>\n",
       "      <th>Type</th>\n",
       "    </tr>\n",
       "  </thead>\n",
       "  <tbody>\n",
       "  </tbody>\n",
       "</table>\n",
       "</div>"
      ],
      "text/plain": [
       "Empty DataFrame\n",
       "Columns: [Temperature, L, R, A_M, Color, Spectral_Class, Type]\n",
       "Index: []"
      ]
     },
     "execution_count": 7,
     "metadata": {},
     "output_type": "execute_result"
    }
   ],
   "source": [
    "data[data.duplicated()]"
   ]
  },
  {
   "cell_type": "markdown",
   "id": "ac0b1699",
   "metadata": {},
   "source": [
    "# Data exploratory"
   ]
  },
  {
   "cell_type": "code",
   "execution_count": 12,
   "id": "b2f1a413",
   "metadata": {},
   "outputs": [
    {
     "data": {
      "text/plain": [
       "Text(0.5, 1.0, 'Star Spectral Class Analysis')"
      ]
     },
     "execution_count": 12,
     "metadata": {},
     "output_type": "execute_result"
    },
    {
     "data": {
      "image/png": "[encoded data removed]",
      "text/plain": [
       "<Figure size 576x432 with 1 Axes>"
      ]
     },
     "metadata": {
      "needs_background": "light"
     },
     "output_type": "display_data"
    }
   ],
   "source": [
    "df= pd.DataFrame(data['Spectral_Class'].value_counts())\n",
    "plt.figure(figsize=(8,6))\n",
    "sns.barplot(df['Spectral_Class'], df.index, palette= 'rainbow')\n",
    "plt.title(\"Star Spectral Class Analysis\")"
   ]
  },
  {
   "cell_type": "code",
   "execution_count": 13,
   "id": "a125f0ab",
   "metadata": {},
   "outputs": [
    {
     "data": {
      "text/plain": [
       "Text(0.5, 1.0, 'Percentage Distribution of Star Type')"
      ]
     },
     "execution_count": 13,
     "metadata": {},
     "output_type": "execute_result"
    },
    {
     "data": {
      "image/png": "[encoded data removed]",
      "text/plain": [
       "<Figure size 864x720 with 1 Axes>"
      ]
     },
     "metadata": {},
     "output_type": "display_data"
    }
   ],
   "source": [
    "df =pd.DataFrame(data['Type'].value_counts())\n",
    "plt.figure(figsize=(12,10))\n",
    "plt.pie(df['Type'],labels=df.index,autopct='%1.1f%%')\n",
    "plt.title(\"Percentage Distribution of Star Type\")"
   ]
  },
  {
   "cell_type": "code",
   "execution_count": 15,
   "id": "d1fc30e3",
   "metadata": {},
   "outputs": [
    {
     "data": {
      "image/png": "[encoded data removed]",
      "text/plain": [
       "<Figure size 792x432 with 2 Axes>"
      ]
     },
     "metadata": {
      "needs_background": "light"
     },
     "output_type": "display_data"
    }
   ],
   "source": [
    "data_corr= data.corr()\n",
    "mask = np.zeros_like(data_corr, dtype=np.bool)\n",
    "mask[np.triu_indices_from(mask)]= True\n",
    "\n",
    "\n",
    "plt.figure(figsize=(11,6))\n",
    "sns.heatmap(data_corr,annot=True,cmap='viridis',annot_kws = {'size': 10},mask=mask)\n",
    "plt.title(\"Correlation Analysis\")\n",
    "plt.show()"
   ]
  },
  {
   "cell_type": "code",
   "execution_count": 16,
   "id": "9e6c76e1",
   "metadata": {},
   "outputs": [
    {
     "data": {
      "text/plain": [
       "Text(0.5, 1.0, 'Star Color Analysis')"
      ]
     },
     "execution_count": 16,
     "metadata": {},
     "output_type": "execute_result"
    },
    {
     "data": {
      "image/png": "[encoded data removed]",
      "text/plain": [
       "<Figure size 720x504 with 1 Axes>"
      ]
     },
     "metadata": {
      "needs_background": "light"
     },
     "output_type": "display_data"
    }
   ],
   "source": [
    "df= pd.DataFrame(data['Color'].value_counts())\n",
    "plt.figure(figsize=(10,7))\n",
    "sns.barplot(df['Color'],df.index, palette= 'Spectral')\n",
    "plt.title(\"Star Color Analysis\")"
   ]
  },
  {
   "cell_type": "code",
   "execution_count": 17,
   "id": "cbde0638",
   "metadata": {},
   "outputs": [
    {
     "data": {
      "image/png": "[encoded data removed]",
      "text/plain": [
       "<Figure size 1080x1080 with 4 Axes>"
      ]
     },
     "metadata": {
      "needs_background": "light"
     },
     "output_type": "display_data"
    }
   ],
   "source": [
    "ig, axs = plt.subplots(2, 2,figsize=(15,15))\n",
    "axs[0, 0].boxplot(data['Temperature'])\n",
    "axs[0, 0].set_title('Temperature')\n",
    "axs[0, 1].boxplot(data['R'], 'tab:orange')\n",
    "axs[0, 1].set_title('Radius')\n",
    "axs[1, 0].boxplot(data['A_M'], 'tab:green')\n",
    "axs[1, 0].set_title('Absolute Magnitutde')\n",
    "axs[1, 1].boxplot(data['L'], 'tab:red')\n",
    "axs[1, 1].set_title('Luminosity')\n",
    "\n",
    "for ax in axs.flat:\n",
    "    ax.set(xlabel='x-label', ylabel='y-label')\n",
    "\n",
    "# Hide x labels and tick labels for top plots and y ticks for right plots.\n",
    "for ax in axs.flat:\n",
    "    ax.label_outer()"
   ]
  },
  {
   "cell_type": "markdown",
   "id": "9124dff2",
   "metadata": {},
   "source": [
    "# Train and Test"
   ]
  },
  {
   "cell_type": "code",
   "execution_count": 18,
   "id": "8e31fcdf",
   "metadata": {},
   "outputs": [],
   "source": [
    "from sklearn.preprocessing import LabelEncoder\n",
    "x1=LabelEncoder()  \n",
    "data['Spectral_Class']= x1.fit_transform(data['Spectral_Class'])\n",
    "data['Color']= x1.fit_transform(data['Color'])\n",
    "\n",
    "Y= data[['Type']]\n",
    "X= data.drop(['Type'], axis=1)\n",
    "\n",
    "x_train, x_test, y_train, y_test= train_test_split(X, Y, test_size=0.2, random_state=0, stratify=Y)"
   ]
  },
  {
   "cell_type": "code",
   "execution_count": 20,
   "id": "03ad0c12",
   "metadata": {},
   "outputs": [
    {
     "name": "stdout",
     "output_type": "stream",
     "text": [
      "Accuracy Score:  0.8958333333333334\n",
      "Confusion Matrix: \n",
      "[[8 0 0 0 0 0]\n",
      " [3 5 0 0 0 0]\n",
      " [0 0 8 0 0 0]\n",
      " [0 0 0 6 2 0]\n",
      " [0 0 0 0 8 0]\n",
      " [0 0 0 0 0 8]]\n"
     ]
    }
   ],
   "source": [
    "LogReg= LogisticRegression()\n",
    "LogReg= LogReg.fit(x_train,y_train)\n",
    "y_pred= LogReg.predict(x_test)\n",
    "print(\"Accuracy Score: \",metrics.accuracy_score(y_pred,y_test))\n",
    "cm= confusion_matrix(y_test,y_pred)\n",
    "print(\"Confusion Matrix: \",cm,sep='\\n')"
   ]
  },
  {
   "cell_type": "code",
   "execution_count": 21,
   "id": "264f0c47",
   "metadata": {},
   "outputs": [
    {
     "data": {
      "text/plain": [
       "0.9375"
      ]
     },
     "execution_count": 21,
     "metadata": {},
     "output_type": "execute_result"
    }
   ],
   "source": [
    "def multiclass_roc_auc_score(y_test, y_pred, average=\"macro\"):\n",
    "    lb = LabelBinarizer()\n",
    "    lb.fit(y_test)\n",
    "    y_test = lb.transform(y_test)\n",
    "    y_pred = lb.transform(y_pred)\n",
    "    return roc_auc_score(y_test, y_pred, average=average)\n",
    "\n",
    "\n",
    "LogReg= multiclass_roc_auc_score(y_test,y_pred)\n",
    "LogReg"
   ]
  },
  {
   "cell_type": "code",
   "execution_count": 22,
   "id": "cd962e06",
   "metadata": {},
   "outputs": [
    {
     "name": "stdout",
     "output_type": "stream",
     "text": [
      "Accuracy Score:  0.5416666666666666\n",
      "Confusion Matrix: \n",
      "[[5 3 0 0 0 0]\n",
      " [3 5 0 0 0 0]\n",
      " [0 0 5 3 0 0]\n",
      " [0 0 3 4 1 0]\n",
      " [0 0 0 0 4 4]\n",
      " [0 0 0 0 5 3]]\n"
     ]
    }
   ],
   "source": [
    "knn= KNeighborsClassifier(n_neighbors=5)\n",
    "knn.fit(x_train,y_train)\n",
    "\n",
    "y_pred= knn.predict(x_test)\n",
    "print(\"Accuracy Score: \",metrics.accuracy_score(y_pred,y_test))\n",
    "\n",
    "cm= confusion_matrix(y_test,y_pred)\n",
    "print(\"Confusion Matrix: \",cm,sep='\\n')"
   ]
  },
  {
   "cell_type": "code",
   "execution_count": 23,
   "id": "91160ea1",
   "metadata": {},
   "outputs": [
    {
     "data": {
      "text/plain": [
       "0.7250000000000001"
      ]
     },
     "execution_count": 23,
     "metadata": {},
     "output_type": "execute_result"
    }
   ],
   "source": [
    "KNN=multiclass_roc_auc_score(y_test,y_pred)\n",
    "KNN"
   ]
  },
  {
   "cell_type": "code",
   "execution_count": 24,
   "id": "60bfbc95",
   "metadata": {},
   "outputs": [
    {
     "name": "stdout",
     "output_type": "stream",
     "text": [
      "Accuracy Score:  1.0\n",
      "Confusion Matrix: \n",
      "[[8 0 0 0 0 0]\n",
      " [0 8 0 0 0 0]\n",
      " [0 0 8 0 0 0]\n",
      " [0 0 0 8 0 0]\n",
      " [0 0 0 0 8 0]\n",
      " [0 0 0 0 0 8]]\n"
     ]
    }
   ],
   "source": [
    "dtc= DecisionTreeClassifier(criterion=\"entropy\")\n",
    "dtc.fit(x_train,y_train)\n",
    "\n",
    "y_pred= dtc.predict(x_test)\n",
    "print(\"Accuracy Score: \",metrics.accuracy_score(y_pred,y_test))\n",
    "\n",
    "cm= confusion_matrix(y_test,y_pred)\n",
    "print(\"Confusion Matrix: \",cm,sep='\\n')"
   ]
  },
  {
   "cell_type": "code",
   "execution_count": 25,
   "id": "9526603b",
   "metadata": {},
   "outputs": [
    {
     "data": {
      "text/plain": [
       "1.0"
      ]
     },
     "execution_count": 25,
     "metadata": {},
     "output_type": "execute_result"
    }
   ],
   "source": [
    "DT=multiclass_roc_auc_score(y_test,y_pred)\n",
    "DT"
   ]
  },
  {
   "cell_type": "code",
   "execution_count": 26,
   "id": "21bd245d",
   "metadata": {},
   "outputs": [
    {
     "name": "stdout",
     "output_type": "stream",
     "text": [
      "Accuracy Score RandomForest:  1.0\n",
      "Confusion Matrix: \n",
      "[[8 0 0 0 0 0]\n",
      " [0 8 0 0 0 0]\n",
      " [0 0 8 0 0 0]\n",
      " [0 0 0 8 0 0]\n",
      " [0 0 0 0 8 0]\n",
      " [0 0 0 0 0 8]]\n"
     ]
    }
   ],
   "source": [
    "rf= RandomForestClassifier(n_estimators=100,random_state=0)\n",
    "rf.fit(x_train,y_train)\n",
    "\n",
    "y_pred= rf.predict(x_test)\n",
    "print(\"Accuracy Score RandomForest: \",metrics.accuracy_score(y_test,y_pred))\n",
    "\n",
    "cm= confusion_matrix(y_test,y_pred)\n",
    "print(\"Confusion Matrix: \",cm,sep='\\n')"
   ]
  },
  {
   "cell_type": "code",
   "execution_count": 27,
   "id": "df210310",
   "metadata": {},
   "outputs": [
    {
     "data": {
      "text/plain": [
       "1.0"
      ]
     },
     "execution_count": 27,
     "metadata": {},
     "output_type": "execute_result"
    }
   ],
   "source": [
    "RF= multiclass_roc_auc_score(y_test,y_pred)\n",
    "RF"
   ]
  },
  {
   "cell_type": "code",
   "execution_count": 28,
   "id": "76268983",
   "metadata": {},
   "outputs": [
    {
     "name": "stdout",
     "output_type": "stream",
     "text": [
      "Accuracy Score of AdaBoost Classifier:  0.6666666666666666\n",
      "Confusion Matrix: \n",
      "[[8 0 0 0 0 0]\n",
      " [0 8 0 0 0 0]\n",
      " [0 0 8 0 0 0]\n",
      " [0 8 0 0 0 0]\n",
      " [0 8 0 0 0 0]\n",
      " [0 0 0 0 0 8]]\n"
     ]
    }
   ],
   "source": [
    "ada= AdaBoostClassifier(n_estimators=200,random_state=0)\n",
    "ada.fit(x_train,y_train)\n",
    "\n",
    "y_pred= ada.predict(x_test)\n",
    "print(\"Accuracy Score of AdaBoost Classifier: \",metrics.accuracy_score(y_test,y_pred))\n",
    "\n",
    "cm= confusion_matrix(y_test,y_pred)\n",
    "print(\"Confusion Matrix: \",cm,sep='\\n')"
   ]
  },
  {
   "cell_type": "code",
   "execution_count": 29,
   "id": "b6331c51",
   "metadata": {},
   "outputs": [
    {
     "data": {
      "text/plain": [
       "0.7999999999999999"
      ]
     },
     "execution_count": 29,
     "metadata": {},
     "output_type": "execute_result"
    }
   ],
   "source": [
    "AB= multiclass_roc_auc_score(y_test,y_pred)\n",
    "AB"
   ]
  },
  {
   "cell_type": "code",
   "execution_count": 30,
   "id": "17a199bf",
   "metadata": {},
   "outputs": [
    {
     "name": "stdout",
     "output_type": "stream",
     "text": [
      "Accuracy Score of GradientBoost Classifier:  1.0\n",
      "Confusion Matrix: \n",
      "[[8 0 0 0 0 0]\n",
      " [0 8 0 0 0 0]\n",
      " [0 0 8 0 0 0]\n",
      " [0 0 0 8 0 0]\n",
      " [0 0 0 0 8 0]\n",
      " [0 0 0 0 0 8]]\n"
     ]
    }
   ],
   "source": [
    "gradient= GradientBoostingClassifier(n_estimators=200,random_state=0,max_depth=2)\n",
    "gradient.fit(x_train,y_train)\n",
    "\n",
    "y_pred= gradient.predict(x_test)\n",
    "print(\"Accuracy Score of GradientBoost Classifier: \",metrics.accuracy_score(y_test,y_pred))\n",
    "\n",
    "cm= confusion_matrix(y_test,y_pred)\n",
    "print(\"Confusion Matrix: \",cm,sep='\\n')"
   ]
  },
  {
   "cell_type": "code",
   "execution_count": 31,
   "id": "9478e56f",
   "metadata": {},
   "outputs": [
    {
     "data": {
      "text/plain": [
       "1.0"
      ]
     },
     "execution_count": 31,
     "metadata": {},
     "output_type": "execute_result"
    }
   ],
   "source": [
    "GB= multiclass_roc_auc_score(y_test,y_pred)\n",
    "GB"
   ]
  },
  {
   "cell_type": "code",
   "execution_count": 32,
   "id": "76a32f6e",
   "metadata": {},
   "outputs": [
    {
     "data": {
      "text/plain": [
       "Text(0.5, 1.0, 'ML Model Comparison')"
      ]
     },
     "execution_count": 32,
     "metadata": {},
     "output_type": "execute_result"
    },
    {
     "data": {
      "image/png": "[encoded data removed]",
      "text/plain": [
       "<Figure size 792x432 with 1 Axes>"
      ]
     },
     "metadata": {
      "needs_background": "light"
     },
     "output_type": "display_data"
    }
   ],
   "source": [
    "mc= pd.DataFrame([LogReg,KNN,DT,RF,AB,GB],['Logistic Regression','KNN Classifier','Decision Tree','Random Forest','Ada-Boost','Gradient Boost'])\n",
    "mc.columns=['ROC_AUC']\n",
    "mc\n",
    "\n",
    "plt.figure(figsize=(11,6))\n",
    "sns.barplot(mc.index,mc.ROC_AUC,palette='rainbow')\n",
    "plt.title('ML Model Comparison')"
   ]
  },
  {
   "cell_type": "code",
   "execution_count": null,
   "id": "31629ea4",
   "metadata": {},
   "outputs": [],
   "source": []
  }
 ],
 "metadata": {
  "kernelspec": {
   "display_name": "Python 3 (ipykernel)",
   "language": "python",
   "name": "python3"
  },
  "language_info": {
   "codemirror_mode": {
    "name": "ipython",
    "version": 3
   },
   "file_extension": ".py",
   "mimetype": "text/x-python",
   "name": "python",
   "nbconvert_exporter": "python",
   "pygments_lexer": "ipython3",
   "version": "3.9.12"
  }
 },
 "nbformat": 4,
 "nbformat_minor": 5
}
